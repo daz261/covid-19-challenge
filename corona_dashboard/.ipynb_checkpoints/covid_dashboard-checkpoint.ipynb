{
 "cells": [
  {
   "cell_type": "code",
   "execution_count": 1,
   "metadata": {},
   "outputs": [],
   "source": [
    "import pandas as pd\n",
    "from datetime import datetime,timedelta\n",
    "from datetime import date\n",
    "import numpy as np"
   ]
  },
  {
   "cell_type": "code",
   "execution_count": 2,
   "metadata": {},
   "outputs": [],
   "source": [
    "curdate = date.today()\n",
    "day_curdate = date.today() -timedelta(days=30)"
   ]
  },
  {
   "cell_type": "code",
   "execution_count": 3,
   "metadata": {},
   "outputs": [
    {
     "data": {
      "text/plain": [
       "datetime.date(2020, 12, 27)"
      ]
     },
     "execution_count": 3,
     "metadata": {},
     "output_type": "execute_result"
    }
   ],
   "source": [
    "day_curdate"
   ]
  },
  {
   "cell_type": "code",
   "execution_count": 4,
   "metadata": {},
   "outputs": [],
   "source": [
    "from newsapi import NewsApiClient\n",
    "\n",
    "# Init\n",
    "newsapi = NewsApiClient(api_key='96cca94dd1524110b3bf24053f9aebb2')\n",
    "q = 'corona'\n",
    "country='us'\n"
   ]
  },
  {
   "cell_type": "code",
   "execution_count": 5,
   "metadata": {},
   "outputs": [],
   "source": [
    "iso_code = pd.read_csv(\"ISO 3166.csv\")"
   ]
  },
  {
   "cell_type": "code",
   "execution_count": 6,
   "metadata": {},
   "outputs": [],
   "source": [
    "iso_code['Alpha-2 code'] = iso_code['Alpha-2 code'].apply(lambda x : str(x).lower())"
   ]
  },
  {
   "cell_type": "code",
   "execution_count": 7,
   "metadata": {},
   "outputs": [],
   "source": [
    "code_country_name_dict = iso_code.set_index('Alpha-2 code').to_dict()['Country name']"
   ]
  },
  {
   "cell_type": "code",
   "execution_count": 8,
   "metadata": {},
   "outputs": [],
   "source": [
    "country_name_code_dict = iso_code.set_index('Country name').to_dict()['Alpha-2 code']"
   ]
  },
  {
   "cell_type": "code",
   "execution_count": 9,
   "metadata": {},
   "outputs": [
    {
     "data": {
      "text/plain": [
       "{'af': 'Afghanistan',\n",
       " 'ax': 'Åland Islands',\n",
       " 'al': 'Albania',\n",
       " 'dz': 'Algeria',\n",
       " 'as': 'American Samoa',\n",
       " 'ad': 'Andorra',\n",
       " 'ao': 'Angola',\n",
       " 'ai': 'Anguilla',\n",
       " 'aq': 'Antarctica',\n",
       " 'ag': 'Antigua and Barbuda',\n",
       " 'ar': 'Argentina',\n",
       " 'am': 'Armenia',\n",
       " 'aw': 'Aruba',\n",
       " 'au': 'Australia',\n",
       " 'at': 'Austria',\n",
       " 'az': 'Azerbaijan',\n",
       " 'bs': 'Bahamas (the)',\n",
       " 'bh': 'Bahrain',\n",
       " 'bd': 'Bangladesh',\n",
       " 'bb': 'Barbados',\n",
       " 'by': 'Belarus',\n",
       " 'be': 'Belgium',\n",
       " 'bz': 'Belize',\n",
       " 'bj': 'Benin',\n",
       " 'bm': 'Bermuda',\n",
       " 'bt': 'Bhutan',\n",
       " 'bo': 'Bolivia (Plurinational State of)',\n",
       " 'bq': 'Bonaire\\r\\n\\xa0Sint Eustatius\\r\\n\\xa0Saba',\n",
       " 'ba': 'Bosnia and Herzegovina',\n",
       " 'bw': 'Botswana',\n",
       " 'bv': 'Bouvet Island',\n",
       " 'br': 'Brazil',\n",
       " 'io': 'British Indian Ocean Territory (the)',\n",
       " 'bn': 'Brunei Darussalam',\n",
       " 'bg': 'Bulgaria',\n",
       " 'bf': 'Burkina Faso',\n",
       " 'bi': 'Burundi',\n",
       " 'cv': 'Cabo Verde',\n",
       " 'kh': 'Cambodia',\n",
       " 'cm': 'Cameroon',\n",
       " 'ca': 'Canada',\n",
       " 'ky': 'Cayman Islands (the)',\n",
       " 'cf': 'Central African Republic (the)',\n",
       " 'td': 'Chad',\n",
       " 'cl': 'Chile',\n",
       " 'cn': 'China',\n",
       " 'cx': 'Christmas Island',\n",
       " 'cc': 'Cocos (Keeling) Islands (the)',\n",
       " 'co': 'Colombia',\n",
       " 'km': 'Comoros (the)',\n",
       " 'cd': 'Congo (the Democratic Republic of the)',\n",
       " 'cg': 'Congo (the)',\n",
       " 'ck': 'Cook Islands (the)',\n",
       " 'cr': 'Costa Rica',\n",
       " 'ci': \"Côte d'Ivoire\",\n",
       " 'hr': 'Croatia',\n",
       " 'cu': 'Cuba',\n",
       " 'cw': 'Curaçao',\n",
       " 'cy': 'Cyprus',\n",
       " 'cz': 'Czechia',\n",
       " 'dk': 'Denmark',\n",
       " 'dj': 'Djibouti',\n",
       " 'dm': 'Dominica',\n",
       " 'do': 'Dominican Republic (the)',\n",
       " 'ec': 'Ecuador',\n",
       " 'eg': 'Egypt',\n",
       " 'sv': 'El Salvador',\n",
       " 'gq': 'Equatorial Guinea',\n",
       " 'er': 'Eritrea',\n",
       " 'ee': 'Estonia',\n",
       " 'sz': 'Eswatini',\n",
       " 'et': 'Ethiopia',\n",
       " 'fk': 'Falkland Islands (the) [Malvinas]',\n",
       " 'fo': 'Faroe Islands (the)',\n",
       " 'fj': 'Fiji',\n",
       " 'fi': 'Finland',\n",
       " 'fr': 'France',\n",
       " 'gf': 'French Guiana',\n",
       " 'pf': 'French Polynesia',\n",
       " 'tf': 'French Southern Territories (the)',\n",
       " 'ga': 'Gabon',\n",
       " 'gm': 'Gambia (the)',\n",
       " 'ge': 'Georgia',\n",
       " 'de': 'Germany',\n",
       " 'gh': 'Ghana',\n",
       " 'gi': 'Gibraltar',\n",
       " 'gr': 'Greece',\n",
       " 'gl': 'Greenland',\n",
       " 'gd': 'Grenada',\n",
       " 'gp': 'Guadeloupe',\n",
       " 'gu': 'Guam',\n",
       " 'gt': 'Guatemala',\n",
       " 'gg': 'Guernsey',\n",
       " 'gn': 'Guinea',\n",
       " 'gw': 'Guinea-Bissau',\n",
       " 'gy': 'Guyana',\n",
       " 'ht': 'Haiti',\n",
       " 'hm': 'Heard Island and McDonald Islands',\n",
       " 'va': 'Holy See (the)',\n",
       " 'hn': 'Honduras',\n",
       " 'hk': 'Hong Kong',\n",
       " 'hu': 'Hungary',\n",
       " 'is': 'Iceland',\n",
       " 'in': 'India',\n",
       " 'id': 'Indonesia',\n",
       " 'ir': 'Iran (Islamic Republic of)',\n",
       " 'iq': 'Iraq',\n",
       " 'ie': 'Ireland',\n",
       " 'im': 'Isle of Man',\n",
       " 'il': 'Israel',\n",
       " 'it': 'Italy',\n",
       " 'jm': 'Jamaica',\n",
       " 'jp': 'Japan',\n",
       " 'je': 'Jersey',\n",
       " 'jo': 'Jordan',\n",
       " 'kz': 'Kazakhstan',\n",
       " 'ke': 'Kenya',\n",
       " 'ki': 'Kiribati',\n",
       " 'kp': \"Korea (the Democratic People's Republic of)\",\n",
       " 'kr': 'Korea (the Republic of)',\n",
       " 'kw': 'Kuwait',\n",
       " 'kg': 'Kyrgyzstan',\n",
       " 'la': \"Lao People's Democratic Republic (the)\",\n",
       " 'lv': 'Latvia',\n",
       " 'lb': 'Lebanon',\n",
       " 'ls': 'Lesotho',\n",
       " 'lr': 'Liberia',\n",
       " 'ly': 'Libya',\n",
       " 'li': 'Liechtenstein',\n",
       " 'lt': 'Lithuania',\n",
       " 'lu': 'Luxembourg',\n",
       " 'mo': 'Macao',\n",
       " 'mk': 'North Macedonia',\n",
       " 'mg': 'Madagascar',\n",
       " 'mw': 'Malawi',\n",
       " 'my': 'Malaysia',\n",
       " 'mv': 'Maldives',\n",
       " 'ml': 'Mali',\n",
       " 'mt': 'Malta',\n",
       " 'mh': 'Marshall Islands (the)',\n",
       " 'mq': 'Martinique',\n",
       " 'mr': 'Mauritania',\n",
       " 'mu': 'Mauritius',\n",
       " 'yt': 'Mayotte',\n",
       " 'mx': 'Mexico',\n",
       " 'fm': 'Micronesia (Federated States of)',\n",
       " 'md': 'Moldova (the Republic of)',\n",
       " 'mc': 'Monaco',\n",
       " 'mn': 'Mongolia',\n",
       " 'me': 'Montenegro',\n",
       " 'ms': 'Montserrat',\n",
       " 'ma': 'Morocco',\n",
       " 'mz': 'Mozambique',\n",
       " 'mm': 'Myanmar',\n",
       " 'nan': 'Namibia',\n",
       " 'nr': 'Nauru',\n",
       " 'np': 'Nepal',\n",
       " 'nl': 'Netherlands (the)',\n",
       " 'nc': 'New Caledonia',\n",
       " 'nz': 'New Zealand',\n",
       " 'ni': 'Nicaragua',\n",
       " 'ne': 'Niger (the)',\n",
       " 'ng': 'Nigeria',\n",
       " 'nu': 'Niue',\n",
       " 'nf': 'Norfolk Island',\n",
       " 'mp': 'Northern Mariana Islands (the)',\n",
       " 'no': 'Norway',\n",
       " 'om': 'Oman',\n",
       " 'pk': 'Pakistan',\n",
       " 'pw': 'Palau',\n",
       " 'ps': 'Palestine, State of',\n",
       " 'pa': 'Panama',\n",
       " 'pg': 'Papua New Guinea',\n",
       " 'py': 'Paraguay',\n",
       " 'pe': 'Peru',\n",
       " 'ph': 'Philippines (the)',\n",
       " 'pn': 'Pitcairn',\n",
       " 'pl': 'Poland',\n",
       " 'pt': 'Portugal',\n",
       " 'pr': 'Puerto Rico',\n",
       " 'qa': 'Qatar',\n",
       " 're': 'Réunion',\n",
       " 'ro': 'Romania',\n",
       " 'ru': 'Russian Federation (the)',\n",
       " 'rw': 'Rwanda',\n",
       " 'bl': 'Saint Barthélemy',\n",
       " 'sh': 'Saint Helena\\r\\n\\xa0Ascension Island\\r\\n\\xa0Tristan da Cunha',\n",
       " 'kn': 'Saint Kitts and Nevis',\n",
       " 'lc': 'Saint Lucia',\n",
       " 'mf': 'Saint Martin (French part)',\n",
       " 'pm': 'Saint Pierre and Miquelon',\n",
       " 'vc': 'Saint Vincent and the Grenadines',\n",
       " 'ws': 'Samoa',\n",
       " 'sm': 'San Marino',\n",
       " 'st': 'Sao Tome and Principe',\n",
       " 'sa': 'Saudi Arabia',\n",
       " 'sn': 'Senegal',\n",
       " 'rs': 'Serbia',\n",
       " 'sc': 'Seychelles',\n",
       " 'sl': 'Sierra Leone',\n",
       " 'sg': 'Singapore',\n",
       " 'sx': 'Sint Maarten (Dutch part)',\n",
       " 'sk': 'Slovakia',\n",
       " 'si': 'Slovenia',\n",
       " 'sb': 'Solomon Islands',\n",
       " 'so': 'Somalia',\n",
       " 'za': 'South Africa',\n",
       " 'gs': 'South Georgia and the South Sandwich Islands',\n",
       " 'ss': 'South Sudan',\n",
       " 'es': 'Spain',\n",
       " 'lk': 'Sri Lanka',\n",
       " 'sd': 'Sudan (the)',\n",
       " 'sr': 'Suriname',\n",
       " 'sj': 'Svalbard\\r\\n\\xa0Jan Mayen',\n",
       " 'se': 'Sweden',\n",
       " 'ch': 'Switzerland',\n",
       " 'sy': 'Syrian Arab Republic (the)',\n",
       " 'tw': 'Taiwan (Province of China)',\n",
       " 'tj': 'Tajikistan',\n",
       " 'tz': 'Tanzania, the United Republic of',\n",
       " 'th': 'Thailand',\n",
       " 'tl': 'Timor-Leste',\n",
       " 'tg': 'Togo',\n",
       " 'tk': 'Tokelau',\n",
       " 'to': 'Tonga',\n",
       " 'tt': 'Trinidad and Tobago',\n",
       " 'tn': 'Tunisia',\n",
       " 'tr': 'Turkey',\n",
       " 'tm': 'Turkmenistan',\n",
       " 'tc': 'Turks and Caicos Islands (the)',\n",
       " 'tv': 'Tuvalu',\n",
       " 'ug': 'Uganda',\n",
       " 'ua': 'Ukraine',\n",
       " 'ae': 'United Arab Emirates (the)',\n",
       " 'gb': 'United Kingdom of Great Britain and Northern Ireland (the)',\n",
       " 'um': 'United States Minor Outlying Islands (the)',\n",
       " 'us': 'United States of America (the)',\n",
       " 'uy': 'Uruguay',\n",
       " 'uz': 'Uzbekistan',\n",
       " 'vu': 'Vanuatu',\n",
       " 've': 'Venezuela (Bolivarian Republic of)',\n",
       " 'vn': 'Viet Nam',\n",
       " 'vg': 'Virgin Islands (British)',\n",
       " 'vi': 'Virgin Islands (U.S.)',\n",
       " 'wf': 'Wallis and Futuna',\n",
       " 'eh': 'Western Sahara',\n",
       " 'ye': 'Yemen',\n",
       " 'zm': 'Zambia',\n",
       " 'zw': 'Zimbabwe'}"
      ]
     },
     "execution_count": 9,
     "metadata": {},
     "output_type": "execute_result"
    }
   ],
   "source": [
    "code_country_name_dict"
   ]
  },
  {
   "cell_type": "code",
   "execution_count": 10,
   "metadata": {},
   "outputs": [],
   "source": [
    "country_options = ['ae','ar','at','au','be','bg','br','ca','ch','cn','co','cu','cz','de','eg','fr','gb','gr','hk','hu','id','ie','il','in','it','jp','kr','lt','lv','ma','mx','my','ng','nl','no','nz','ph','pl','pt','ro','rs','ru','sa','se','sg','si','sk','th','tr','tw','ua','us','ve','za']\n",
    "country_options_st = [code_country_name_dict[x] for x in country_options]"
   ]
  },
  {
   "cell_type": "code",
   "execution_count": 11,
   "metadata": {},
   "outputs": [
    {
     "data": {
      "text/html": [
       "<div>\n",
       "<style scoped>\n",
       "    .dataframe tbody tr th:only-of-type {\n",
       "        vertical-align: middle;\n",
       "    }\n",
       "\n",
       "    .dataframe tbody tr th {\n",
       "        vertical-align: top;\n",
       "    }\n",
       "\n",
       "    .dataframe thead th {\n",
       "        text-align: right;\n",
       "    }\n",
       "</style>\n",
       "<table border=\"1\" class=\"dataframe\">\n",
       "  <thead>\n",
       "    <tr style=\"text-align: right;\">\n",
       "      <th></th>\n",
       "      <th>Country name</th>\n",
       "      <th>Official state name</th>\n",
       "      <th>Sovereignty</th>\n",
       "      <th>Alpha-2 code</th>\n",
       "      <th>Alpha-3 code</th>\n",
       "      <th>Numeric code</th>\n",
       "      <th>Subdivision code links</th>\n",
       "      <th>Internet ccTLD</th>\n",
       "    </tr>\n",
       "  </thead>\n",
       "  <tbody>\n",
       "    <tr>\n",
       "      <th>0</th>\n",
       "      <td>Afghanistan</td>\n",
       "      <td>The Islamic Republic of Afghanistan</td>\n",
       "      <td>UN member state</td>\n",
       "      <td>af</td>\n",
       "      <td>AFG</td>\n",
       "      <td>4</td>\n",
       "      <td>ISO 3166-2:AF</td>\n",
       "      <td>.af</td>\n",
       "    </tr>\n",
       "    <tr>\n",
       "      <th>1</th>\n",
       "      <td>Åland Islands</td>\n",
       "      <td>Åland</td>\n",
       "      <td>Finland</td>\n",
       "      <td>ax</td>\n",
       "      <td>ALA</td>\n",
       "      <td>248</td>\n",
       "      <td>ISO 3166-2:AX</td>\n",
       "      <td>.ax</td>\n",
       "    </tr>\n",
       "    <tr>\n",
       "      <th>2</th>\n",
       "      <td>Albania</td>\n",
       "      <td>The Republic of Albania</td>\n",
       "      <td>UN member state</td>\n",
       "      <td>al</td>\n",
       "      <td>ALB</td>\n",
       "      <td>8</td>\n",
       "      <td>ISO 3166-2:AL</td>\n",
       "      <td>.al</td>\n",
       "    </tr>\n",
       "    <tr>\n",
       "      <th>3</th>\n",
       "      <td>Algeria</td>\n",
       "      <td>The People's Democratic Republic of Algeria</td>\n",
       "      <td>UN member state</td>\n",
       "      <td>dz</td>\n",
       "      <td>DZA</td>\n",
       "      <td>12</td>\n",
       "      <td>ISO 3166-2:DZ</td>\n",
       "      <td>.dz</td>\n",
       "    </tr>\n",
       "    <tr>\n",
       "      <th>4</th>\n",
       "      <td>American Samoa</td>\n",
       "      <td>The Territory of American Samoa</td>\n",
       "      <td>United States</td>\n",
       "      <td>as</td>\n",
       "      <td>ASM</td>\n",
       "      <td>16</td>\n",
       "      <td>ISO 3166-2:AS</td>\n",
       "      <td>.as</td>\n",
       "    </tr>\n",
       "    <tr>\n",
       "      <th>...</th>\n",
       "      <td>...</td>\n",
       "      <td>...</td>\n",
       "      <td>...</td>\n",
       "      <td>...</td>\n",
       "      <td>...</td>\n",
       "      <td>...</td>\n",
       "      <td>...</td>\n",
       "      <td>...</td>\n",
       "    </tr>\n",
       "    <tr>\n",
       "      <th>244</th>\n",
       "      <td>Wallis and Futuna</td>\n",
       "      <td>The Territory of the Wallis and Futuna Islands</td>\n",
       "      <td>France</td>\n",
       "      <td>wf</td>\n",
       "      <td>WLF</td>\n",
       "      <td>876</td>\n",
       "      <td>ISO 3166-2:WF</td>\n",
       "      <td>.wf</td>\n",
       "    </tr>\n",
       "    <tr>\n",
       "      <th>245</th>\n",
       "      <td>Western Sahara</td>\n",
       "      <td>The Sahrawi Arab Democratic Republic</td>\n",
       "      <td>disputed</td>\n",
       "      <td>eh</td>\n",
       "      <td>ESH</td>\n",
       "      <td>732</td>\n",
       "      <td>ISO 3166-2:EH</td>\n",
       "      <td>NaN</td>\n",
       "    </tr>\n",
       "    <tr>\n",
       "      <th>246</th>\n",
       "      <td>Yemen</td>\n",
       "      <td>The Republic of Yemen</td>\n",
       "      <td>UN member state</td>\n",
       "      <td>ye</td>\n",
       "      <td>YEM</td>\n",
       "      <td>887</td>\n",
       "      <td>ISO 3166-2:YE</td>\n",
       "      <td>.ye</td>\n",
       "    </tr>\n",
       "    <tr>\n",
       "      <th>247</th>\n",
       "      <td>Zambia</td>\n",
       "      <td>The Republic of Zambia</td>\n",
       "      <td>UN member state</td>\n",
       "      <td>zm</td>\n",
       "      <td>ZMB</td>\n",
       "      <td>894</td>\n",
       "      <td>ISO 3166-2:ZM</td>\n",
       "      <td>.zm</td>\n",
       "    </tr>\n",
       "    <tr>\n",
       "      <th>248</th>\n",
       "      <td>Zimbabwe</td>\n",
       "      <td>The Republic of Zimbabwe</td>\n",
       "      <td>UN member state</td>\n",
       "      <td>zw</td>\n",
       "      <td>ZWE</td>\n",
       "      <td>716</td>\n",
       "      <td>ISO 3166-2:ZW</td>\n",
       "      <td>.zw</td>\n",
       "    </tr>\n",
       "  </tbody>\n",
       "</table>\n",
       "<p>249 rows × 8 columns</p>\n",
       "</div>"
      ],
      "text/plain": [
       "          Country name                             Official state name  \\\n",
       "0          Afghanistan             The Islamic Republic of Afghanistan   \n",
       "1        Åland Islands                                           Åland   \n",
       "2              Albania                         The Republic of Albania   \n",
       "3              Algeria     The People's Democratic Republic of Algeria   \n",
       "4       American Samoa                 The Territory of American Samoa   \n",
       "..                 ...                                             ...   \n",
       "244  Wallis and Futuna  The Territory of the Wallis and Futuna Islands   \n",
       "245     Western Sahara            The Sahrawi Arab Democratic Republic   \n",
       "246              Yemen                           The Republic of Yemen   \n",
       "247             Zambia                          The Republic of Zambia   \n",
       "248           Zimbabwe                        The Republic of Zimbabwe   \n",
       "\n",
       "         Sovereignty Alpha-2 code Alpha-3 code  Numeric code  \\\n",
       "0    UN member state           af          AFG             4   \n",
       "1            Finland           ax          ALA           248   \n",
       "2    UN member state           al          ALB             8   \n",
       "3    UN member state           dz          DZA            12   \n",
       "4      United States           as          ASM            16   \n",
       "..               ...          ...          ...           ...   \n",
       "244           France           wf          WLF           876   \n",
       "245         disputed           eh          ESH           732   \n",
       "246  UN member state           ye          YEM           887   \n",
       "247  UN member state           zm          ZMB           894   \n",
       "248  UN member state           zw          ZWE           716   \n",
       "\n",
       "    Subdivision code links Internet ccTLD  \n",
       "0            ISO 3166-2:AF            .af  \n",
       "1            ISO 3166-2:AX            .ax  \n",
       "2            ISO 3166-2:AL            .al  \n",
       "3            ISO 3166-2:DZ            .dz  \n",
       "4            ISO 3166-2:AS            .as  \n",
       "..                     ...            ...  \n",
       "244          ISO 3166-2:WF            .wf  \n",
       "245          ISO 3166-2:EH            NaN  \n",
       "246          ISO 3166-2:YE            .ye  \n",
       "247          ISO 3166-2:ZM            .zm  \n",
       "248          ISO 3166-2:ZW            .zw  \n",
       "\n",
       "[249 rows x 8 columns]"
      ]
     },
     "execution_count": 11,
     "metadata": {},
     "output_type": "execute_result"
    }
   ],
   "source": [
    "iso_code"
   ]
  },
  {
   "cell_type": "markdown",
   "metadata": {},
   "source": [
    "# Top News results"
   ]
  },
  {
   "cell_type": "code",
   "execution_count": 12,
   "metadata": {},
   "outputs": [],
   "source": [
    "# /v2/top-headlines\n"
   ]
  },
  {
   "cell_type": "code",
   "execution_count": 13,
   "metadata": {},
   "outputs": [],
   "source": [
    "def create_dataframe_top(queries,country):\n",
    "    fulldata = pd.DataFrame() \n",
    "    for q in queries:\n",
    "        json_data = newsapi.get_top_headlines(q=q,\n",
    "                                              language='en',\n",
    "                                              country=country)\n",
    "        data = pd.DataFrame(json_data['articles'])\n",
    "        data['source'] = data['source'].apply(lambda x : x['name'])\n",
    "        data['publishedAt'] = pd.to_datetime(data['publishedAt'])\n",
    "        fulldata=pd.concat([fulldata,data])\n",
    "    fulldata = fulldata.drop_duplicates(subset='url').sort_values(by='publishedAt',ascending=False).reset_index()\n",
    "    return fulldata"
   ]
  },
  {
   "cell_type": "code",
   "execution_count": 14,
   "metadata": {},
   "outputs": [],
   "source": [
    "data = create_dataframe_top(['covid','corona'],country='us')"
   ]
  },
  {
   "cell_type": "code",
   "execution_count": 15,
   "metadata": {},
   "outputs": [],
   "source": [
    "def create_most_recent_markdown(df):\n",
    "    # img url\n",
    "    img_path = df['urlToImage'].iloc[0]\n",
    "    img_alt = df['title'].iloc[0]\n",
    "    df = df.head(5)\n",
    "    markdown_str = f\"![{img_alt}]({img_path}) <br> \"\n",
    "    for index, row in df.iterrows():\n",
    "        markdown_str += f\"[{row['title']}]({row['url']}) by {row['author']}<br> \"\n",
    "    return markdown_str"
   ]
  },
  {
   "cell_type": "code",
   "execution_count": 16,
   "metadata": {},
   "outputs": [],
   "source": [
    "top_results_markdown = create_most_recent_markdown(data)"
   ]
  },
  {
   "cell_type": "code",
   "execution_count": 17,
   "metadata": {
    "scrolled": true
   },
   "outputs": [
    {
     "data": {
      "text/plain": [
       "\"![Georgia state lawmaker removed from House chamber after refusing Covid test - NBC News](https://media3.s-nbcnews.com/j/newscms/2021_04/3445114/210126-rep-david-clark-ew-1246p_21b86dcd8996bee865faad0ff68cd1d6.nbcnews-fp-1200-630.jpg) <br> [Georgia state lawmaker removed from House chamber after refusing Covid test - NBC News](https://www.nbcnews.com/news/us-news/georgia-state-lawmaker-removed-house-chamber-after-refusing-covid-test-n1255700) by Minyvonne Burke<br> [Italy's Prime Minister Quits As COVID-19 Response Splits Coalition Government - NPR](https://www.npr.org/2021/01/26/960744631/italys-prime-minister-quits-as-covid-19-response-splits-coalition-government) by <br> [Hikers told to forgo entire Appalachian Trail due to coronavirus - WMUR Manchester](https://www.wmur.com/article/hikers-told-to-forgo-entire-appalachian-trail-due-to-coronavirus/35321946) by The Associated Press<br> [Iowa's COVID-19 hospitalizations increase, positivity rates decline - KCCI Des Moines](https://www.kcci.com/article/iowa-department-of-public-health-january-26-covid-19-update/35321958) by None<br> [Florida’s COVID-19 variant cases have doubled, CDC says - WPLG Local 10](https://www.local10.com/news/local/2021/01/26/floridas-covid-19-variant-cases-have-doubled-cdc-says/) by David Selig, Associated Press<br> \""
      ]
     },
     "execution_count": 17,
     "metadata": {},
     "output_type": "execute_result"
    }
   ],
   "source": [
    "top_results_markdown"
   ]
  },
  {
   "cell_type": "markdown",
   "metadata": {},
   "source": [
    "![MLB players open to games without fans amid coronavirus uncertainty, union chief says - Yahoo Sports](https://s.yimg.com/uu/api/res/1.2/2ycLYacf7NbGCyddmUEYFQ--~B/aD0zMjU3O3c9NTA4ODtzbT0xO2FwcGlkPXl0YWNoeW9u/https://media-mbst-pub-ue1.s3.amazonaws.com/creatr-images/2020-03/19ffe030-709c-11ea-bbe3-9281d529cfc9) <br> [MLB players open to games without fans amid coronavirus uncertainty, union chief says - Yahoo Sports](https://sports.yahoo.com/mlb-players-open-to-games-without-fans-amid-coronavirus-uncertainty-union-chief-says-024051838.html) by Tim Brown<br> [Cuomo calls Trump 'incorrect and grossly uninformed' about New York's ventilator situation as fight escalates - CNN](https://www.cnn.com/2020/03/27/politics/cuomo-trump-incorrect-and-grossly-uninformed/index.html) by Shimon Prokupecz and Caroline Kelly, CNN<br> [Google has banned the Infowars Android app over false coronavirus claims - The Verge](https://www.theverge.com/2020/3/27/21197701/google-banned-infowars-android-app-play-store-coronavirus) by Jay Peters<br> [The mystery behind Germany's low coronavirus death rate - CBS News](https://www.cbsnews.com/news/coronavirus-death-rate-mystery-germany-italy-covid-19/) by CBS News<br> [Teen who may have died of coronavirus was turned away from urgent care due to lack of insurance | TheHill - The Hill](https://thehill.com/policy/healthcare/489957-teen-who-may-have-died-of-coronavirus-was-turned-away-from-urgent-care-due) by Brooke Seipel<br>"
   ]
  },
  {
   "cell_type": "markdown",
   "metadata": {},
   "source": [
    "# Sentiment Trends"
   ]
  },
  {
   "cell_type": "code",
   "execution_count": 18,
   "metadata": {},
   "outputs": [],
   "source": [
    "def get_sources(country):\n",
    "    sources = newsapi.get_sources(country=country)\n",
    "    sources = [x['id'] for x in sources['sources']]\n",
    "    return sources"
   ]
  },
  {
   "cell_type": "code",
   "execution_count": 19,
   "metadata": {},
   "outputs": [],
   "source": [
    "def create_dataframe_last_30d(queries, sources):\n",
    "    fulldata = pd.DataFrame()\n",
    "    for q in queries:\n",
    "        for s in sources:\n",
    "            print(s)\n",
    "            json_data = newsapi.get_everything(q=q,\n",
    "                                              language='en',\n",
    "                                                from_param=str(date.today() -timedelta(days=29)),\n",
    "                                              to= str(date.today()),\n",
    "                                               sources = s,\n",
    "                                              page_size=100,\n",
    "                                              page = 1,sort_by='relevancy'\n",
    "                                              )\n",
    "            if len(json_data['articles'])>0:\n",
    "                data = pd.DataFrame(json_data['articles'])\n",
    "                fulldata=pd.concat([fulldata,data])\n",
    "    if len(fulldata)>0:\n",
    "        fulldata['source'] = fulldata['source'].apply(lambda x : x['name'])\n",
    "        fulldata['publishedAt'] = pd.to_datetime(fulldata['publishedAt'])\n",
    "        fulldata = fulldata.drop_duplicates(subset='url').sort_values(by='publishedAt',ascending=False).reset_index()\n",
    "    return fulldata\n",
    "    "
   ]
  },
  {
   "cell_type": "code",
   "execution_count": 20,
   "metadata": {},
   "outputs": [],
   "source": [
    "sources = get_sources(country='bg')"
   ]
  },
  {
   "cell_type": "code",
   "execution_count": 21,
   "metadata": {
    "scrolled": true
   },
   "outputs": [],
   "source": [
    "fulldf = create_dataframe_last_30d(['corona'],sources)"
   ]
  },
  {
   "cell_type": "code",
   "execution_count": 22,
   "metadata": {},
   "outputs": [
    {
     "data": {
      "text/html": [
       "<div>\n",
       "<style scoped>\n",
       "    .dataframe tbody tr th:only-of-type {\n",
       "        vertical-align: middle;\n",
       "    }\n",
       "\n",
       "    .dataframe tbody tr th {\n",
       "        vertical-align: top;\n",
       "    }\n",
       "\n",
       "    .dataframe thead th {\n",
       "        text-align: right;\n",
       "    }\n",
       "</style>\n",
       "<table border=\"1\" class=\"dataframe\">\n",
       "  <thead>\n",
       "    <tr style=\"text-align: right;\">\n",
       "      <th></th>\n",
       "    </tr>\n",
       "  </thead>\n",
       "  <tbody>\n",
       "  </tbody>\n",
       "</table>\n",
       "</div>"
      ],
      "text/plain": [
       "Empty DataFrame\n",
       "Columns: []\n",
       "Index: []"
      ]
     },
     "execution_count": 22,
     "metadata": {},
     "output_type": "execute_result"
    }
   ],
   "source": [
    "fulldf.head()"
   ]
  },
  {
   "cell_type": "code",
   "execution_count": 24,
   "metadata": {},
   "outputs": [
    {
     "ename": "ModuleNotFoundError",
     "evalue": "No module named 'plotly'",
     "output_type": "error",
     "traceback": [
      "\u001b[0;31m---------------------------------------------------------------------------\u001b[0m",
      "\u001b[0;31mModuleNotFoundError\u001b[0m                       Traceback (most recent call last)",
      "\u001b[0;32m<ipython-input-24-8d305ae48be1>\u001b[0m in \u001b[0;36m<module>\u001b[0;34m\u001b[0m\n\u001b[0;32m----> 1\u001b[0;31m \u001b[0;32mimport\u001b[0m \u001b[0mplotly\u001b[0m\u001b[0;34m.\u001b[0m\u001b[0mexpress\u001b[0m \u001b[0;32mas\u001b[0m \u001b[0mpx\u001b[0m\u001b[0;34m\u001b[0m\u001b[0;34m\u001b[0m\u001b[0m\n\u001b[0m\u001b[1;32m      2\u001b[0m \u001b[0;32mimport\u001b[0m \u001b[0mtextblob\u001b[0m\u001b[0;34m\u001b[0m\u001b[0;34m\u001b[0m\u001b[0m\n",
      "\u001b[0;31mModuleNotFoundError\u001b[0m: No module named 'plotly'"
     ]
    }
   ],
   "source": [
    "import plotly.express as px\n",
    "import textblob"
   ]
  },
  {
   "cell_type": "code",
   "execution_count": 25,
   "metadata": {},
   "outputs": [
    {
     "ename": "ModuleNotFoundError",
     "evalue": "No module named 'textblob'",
     "output_type": "error",
     "traceback": [
      "\u001b[0;31m---------------------------------------------------------------------------\u001b[0m",
      "\u001b[0;31mModuleNotFoundError\u001b[0m                       Traceback (most recent call last)",
      "\u001b[0;32m<ipython-input-25-8748646f0480>\u001b[0m in \u001b[0;36m<module>\u001b[0;34m\u001b[0m\n\u001b[0;32m----> 1\u001b[0;31m \u001b[0;32mfrom\u001b[0m \u001b[0mtextblob\u001b[0m \u001b[0;32mimport\u001b[0m \u001b[0mTextBlob\u001b[0m\u001b[0;34m\u001b[0m\u001b[0;34m\u001b[0m\u001b[0m\n\u001b[0m\u001b[1;32m      2\u001b[0m \u001b[0;32mdef\u001b[0m \u001b[0mtextblob_sentiment\u001b[0m\u001b[0;34m(\u001b[0m\u001b[0mtitle\u001b[0m\u001b[0;34m,\u001b[0m\u001b[0mdescription\u001b[0m\u001b[0;34m)\u001b[0m\u001b[0;34m:\u001b[0m\u001b[0;34m\u001b[0m\u001b[0;34m\u001b[0m\u001b[0m\n\u001b[1;32m      3\u001b[0m     \u001b[0mblob\u001b[0m \u001b[0;34m=\u001b[0m \u001b[0mTextBlob\u001b[0m\u001b[0;34m(\u001b[0m\u001b[0mstr\u001b[0m\u001b[0;34m(\u001b[0m\u001b[0mtitle\u001b[0m\u001b[0;34m)\u001b[0m\u001b[0;34m+\u001b[0m\u001b[0;34m\" \"\u001b[0m\u001b[0;34m+\u001b[0m\u001b[0mstr\u001b[0m\u001b[0;34m(\u001b[0m\u001b[0mdescription\u001b[0m\u001b[0;34m)\u001b[0m\u001b[0;34m)\u001b[0m\u001b[0;34m\u001b[0m\u001b[0;34m\u001b[0m\u001b[0m\n\u001b[1;32m      4\u001b[0m     \u001b[0;32mreturn\u001b[0m \u001b[0mblob\u001b[0m\u001b[0;34m.\u001b[0m\u001b[0msentiment\u001b[0m\u001b[0;34m.\u001b[0m\u001b[0mpolarity\u001b[0m\u001b[0;34m\u001b[0m\u001b[0;34m\u001b[0m\u001b[0m\n\u001b[1;32m      5\u001b[0m \u001b[0;34m\u001b[0m\u001b[0m\n",
      "\u001b[0;31mModuleNotFoundError\u001b[0m: No module named 'textblob'"
     ]
    }
   ],
   "source": [
    "from textblob import TextBlob\n",
    "def textblob_sentiment(title,description):\n",
    "    blob = TextBlob(str(title)+\" \"+str(description))\n",
    "    return blob.sentiment.polarity\n",
    "\n",
    "fulldf['story_sentiment'] = fulldf.apply(lambda x: textblob_sentiment(x['title'],x['description']),axis=1)"
   ]
  },
  {
   "cell_type": "code",
   "execution_count": null,
   "metadata": {},
   "outputs": [],
   "source": [
    "sent_df = fulldf.groupby('source').aggregate({'story_sentiment':np.mean,'index':'count'}).reset_index().sort_values('story_sentiment')"
   ]
  },
  {
   "cell_type": "code",
   "execution_count": null,
   "metadata": {},
   "outputs": [],
   "source": [
    "relevant_sent_df = sent_df[sent_df['index']>10]"
   ]
  },
  {
   "cell_type": "code",
   "execution_count": null,
   "metadata": {},
   "outputs": [],
   "source": [
    "px.bar(data_frame = relevant_sent_df,x = 'source',y='story_sentiment')"
   ]
  },
  {
   "cell_type": "markdown",
   "metadata": {},
   "source": [
    "# Top positive sentiment stories"
   ]
  },
  {
   "cell_type": "code",
   "execution_count": null,
   "metadata": {},
   "outputs": [],
   "source": [
    "positivedata = fulldf[fulldf['source'].isin(relevant_sent_df.source.values)].sort_values('story_sentiment',ascending=False)\n",
    "negativedata = fulldf[fulldf['source'].isin(relevant_sent_df.source.values)].sort_values('story_sentiment',ascending=True)"
   ]
  },
  {
   "cell_type": "code",
   "execution_count": null,
   "metadata": {},
   "outputs": [],
   "source": [
    "positive_results_markdown = create_most_recent_markdown(positivedata)"
   ]
  },
  {
   "cell_type": "code",
   "execution_count": null,
   "metadata": {},
   "outputs": [],
   "source": [
    "negative_results_markdown = create_most_recent_markdown(negativedata)"
   ]
  },
  {
   "cell_type": "code",
   "execution_count": null,
   "metadata": {},
   "outputs": [],
   "source": [
    "positive_results_markdown"
   ]
  },
  {
   "cell_type": "code",
   "execution_count": null,
   "metadata": {},
   "outputs": [],
   "source": [
    "negative_results_markdown"
   ]
  },
  {
   "cell_type": "markdown",
   "metadata": {},
   "source": [
    "![Pinkerton: Tom Cotton’s Idea to Insource U.S. Pharmaceuticals Echoes One of Our Great Successes in World War Two](https://media.breitbart.com/media/2020/03/GettyImages-1195194390-640x335.jpg) <br> [Pinkerton: Tom Cotton’s Idea to Insource U.S. Pharmaceuticals Echoes One of Our Great Successes in World War Two](https://www.breitbart.com/health/2020/03/25/pinkerton-tom-cottons-idea-to-insource-u-s-pharmaceuticals-echoes-one-of-our-great-successes-in-world-war-two/) by James P. Pinkerton<br> [The Hill's Morning Report - Trump shifts his tone on coronavirus](https://thehill.com/homenews/morning-report/487948-the-hills-morning-report) by Alexis Simendinger and Al Weaver<br> [The world's largest tourism fair has been cancelled](https://www.nbcnews.com/health/health-news/live-blog/coronavirus-updates-live-countries-prepare-outbreak-spreads-n1143556/ncrd1145361) by Daniel Arkin<br> [OVERNIGHT ENERGY: Democratic lawmakers call for emissions reductions in airline bailout| House Democrats fight bailout for oil industry| GOP senators ask Saudis to stabilize oil market](https://thehill.com/policy/energy-environment/overnights/488116-overnight-energy-democratic-lawmakers-call-for-emissions) by Rebecca Beitsch<br> [Coronavirus-infected North Carolina man urges kindness as pandemic continues](https://www.foxnews.com/health/coronavirus-infected-north-carolina-man-urges-kindness) by Madeline Farber<br> "
   ]
  },
  {
   "cell_type": "markdown",
   "metadata": {},
   "source": [
    "![Cardi B: Worst of coronavirus 'could've been prevented'](https://thehill.com/sites/default/files/cardib_01082020getty.jpg) <br> [Cardi B: Worst of coronavirus 'could've been prevented'](https://thehill.com/blogs/in-the-know/in-the-know/489465-cardi-b-worst-of-coronavirus-couldve-been-prevented) by Judy Kurtz<br> [Doctor's Note: What does having the coronavirus feel like?](https://www.aljazeera.com/indepth/features/doctor-note-coronavirus-feel-200323065512541.html) by Dr Amir Khan<br> [U.S. Chamber of Commerce Says Coronavirus Outbreak 'Isn't the Time' for Dems to Push for Paid Sick Leave](https://www.newsweek.com/us-chamber-commerce-says-coronavirus-outbreak-isnt-time-dems-push-paid-sick-leave-1492076) by Jeffery Martin<br> [A man accused of licking deodorants in a Missouri Walmart after asking 'Who's afraid of the coronavirus?' was charged with making a terrorist threat](https://www.businessinsider.com/coronavirus-man-accused-licking-walmart-items-charged-with-terror-threat-2020-3) by Sinéad Baker<br> [Trump’s habit of fudging inconvenient numbers enters dangerous territory](https://www.washingtonpost.com/politics/2020/03/05/trumps-habit-fudging-inconvenient-numbers-enters-dangerous-territory/) by Philip Bump<br>"
   ]
  },
  {
   "cell_type": "code",
   "execution_count": null,
   "metadata": {},
   "outputs": [],
   "source": [
    "# Wordcloud by Site"
   ]
  },
  {
   "cell_type": "code",
   "execution_count": null,
   "metadata": {},
   "outputs": [],
   "source": [
    "# modules for generating the word cloud\n",
    "from os import path, getcwd\n",
    "from PIL import Image\n",
    "import numpy as np\n",
    "import matplotlib.pyplot as plt\n",
    "from wordcloud import WordCloud, ImageColorGenerator, STOPWORDS"
   ]
  },
  {
   "cell_type": "code",
   "execution_count": null,
   "metadata": {},
   "outputs": [],
   "source": [
    "def create_mask():\n",
    "    mask = np.array(Image.open(\"coronavirus.png\"))\n",
    "    im_gray = cv2.cvtColor(mask, cv2.COLOR_BGR2GRAY)\n",
    "    _, mask = cv2.threshold(im_gray, thresh=20, maxval=255, type=cv2.THRESH_BINARY)\n",
    "    mask = 255 - mask\n",
    "    return mask"
   ]
  },
  {
   "cell_type": "code",
   "execution_count": null,
   "metadata": {},
   "outputs": [],
   "source": [
    "mask = create_mask()\n",
    "def create_wc_by(source):\n",
    "    data = fulldf[fulldf['source']==source]\n",
    "    text = \" \".join([x for x in data.content.values if x is not None])\n",
    "    stopwords = set(STOPWORDS)\n",
    "    stopwords.add('chars')\n",
    "    stopwords.add('coronavirus')\n",
    "    stopwords.add('corona')\n",
    "    stopwords.add('chars')\n",
    "    wc = WordCloud(background_color=\"white\", max_words=1000, mask=mask, stopwords=stopwords,\n",
    "               max_font_size=90, random_state=42, contour_width=3, contour_color='steelblue')\n",
    "    wc.generate(text)\n",
    "    plt.figure(figsize=[50,50])\n",
    "    plt.imshow(wc, interpolation='bilinear')\n",
    "    plt.axis(\"off\")\n",
    "    return plt"
   ]
  },
  {
   "cell_type": "code",
   "execution_count": null,
   "metadata": {},
   "outputs": [],
   "source": [
    "@st.cache()\n",
    "def get_data(date):\n",
    "    url = \"https://opendata.ecdc.europa.eu/covid19/casedistribution/csv\"\n",
    "    filename = wget.download(url,\"cases.csv\")\n",
    "    casedata = pd.read_csv(filename, encoding='latin-1')\n",
    "    casedata['dateRep']=pd.to_datetime(casedata['dateRep'],format = \"%d/%m/%Y\")\n",
    "    mindt = min(casedata['dateRep'])\n",
    "    casedata['days_since_start'] = casedata['dateRep'].apply(lambda x: (x -  mindt).days)\n",
    "    #casedata['first_case_date'] \n",
    "    country_first_case_date = casedata[casedata['cases']!=0].groupby(\"countryterritoryCode\").aggregate({'dateRep':'min'}).reset_index()\n",
    "    country_first_case_date.columns = ['countryterritoryCode','firstcasedate']\n",
    "    casedata = casedata.merge(country_first_case_date,on='countryterritoryCode',how='left')\n",
    "    casedata['days_since_country_first_case'] = casedata.apply(lambda x: (x['dateRep'] - x['firstcasedate']).days,axis=1)\n",
    "    casedata = casedata[casedata['days_since_country_first_case']>=0]\n",
    "    casedata['geoId'] = casedata['geoId'].apply(lambda x:str(x).lower())\n",
    "    casedata = casedata.sort_values(by='dateRep')\n",
    "    casedata['cumdeaths']= casedata.groupby(by=['countryterritoryCode'])['deaths'].apply(lambda x: x.cumsum())\n",
    "    casedata['cumcases']= casedata.groupby(by=['countryterritoryCode'])['cases'].apply(lambda x: x.cumsum())\n",
    "    return casedata"
   ]
  },
  {
   "cell_type": "code",
   "execution_count": null,
   "metadata": {},
   "outputs": [],
   "source": []
  },
  {
   "cell_type": "code",
   "execution_count": null,
   "metadata": {},
   "outputs": [],
   "source": []
  },
  {
   "cell_type": "code",
   "execution_count": null,
   "metadata": {},
   "outputs": [],
   "source": []
  },
  {
   "cell_type": "code",
   "execution_count": null,
   "metadata": {},
   "outputs": [],
   "source": []
  },
  {
   "cell_type": "code",
   "execution_count": null,
   "metadata": {},
   "outputs": [],
   "source": []
  },
  {
   "cell_type": "code",
   "execution_count": null,
   "metadata": {},
   "outputs": [],
   "source": []
  },
  {
   "cell_type": "code",
   "execution_count": null,
   "metadata": {},
   "outputs": [],
   "source": []
  },
  {
   "cell_type": "code",
   "execution_count": null,
   "metadata": {},
   "outputs": [],
   "source": []
  },
  {
   "cell_type": "code",
   "execution_count": null,
   "metadata": {},
   "outputs": [],
   "source": []
  },
  {
   "cell_type": "code",
   "execution_count": null,
   "metadata": {},
   "outputs": [],
   "source": []
  },
  {
   "cell_type": "code",
   "execution_count": null,
   "metadata": {},
   "outputs": [],
   "source": []
  },
  {
   "cell_type": "code",
   "execution_count": null,
   "metadata": {},
   "outputs": [],
   "source": [
    "casedata"
   ]
  },
  {
   "cell_type": "code",
   "execution_count": null,
   "metadata": {},
   "outputs": [],
   "source": []
  },
  {
   "cell_type": "code",
   "execution_count": null,
   "metadata": {},
   "outputs": [],
   "source": [
    "#case growth curve for multiple countries\n",
    "casedata[casedata['geoId']=='af']"
   ]
  },
  {
   "cell_type": "code",
   "execution_count": null,
   "metadata": {
    "scrolled": false
   },
   "outputs": [],
   "source": [
    "px.line(casedata,x='days_since_country_first_case',y='cumcases',line_group='countriesAndTerritories',color = 'countriesAndTerritories')"
   ]
  },
  {
   "cell_type": "code",
   "execution_count": null,
   "metadata": {},
   "outputs": [],
   "source": [
    "px.line(casedata,x='days_since_country_first_case',y='cumdeaths',line_group='countryterritoryCode',color = 'countryterritoryCode')"
   ]
  },
  {
   "cell_type": "code",
   "execution_count": null,
   "metadata": {},
   "outputs": [],
   "source": [
    "fig = px.choropleth(casedata, locations=\"countryterritoryCode\", color=\"cumdeaths\", hover_name=\"countriesAndTerritories\", animation_frame=\"days_since_start\",range_color=[0,max(casedata.cumdeaths)])\n",
    "fig.show()"
   ]
  },
  {
   "cell_type": "code",
   "execution_count": null,
   "metadata": {},
   "outputs": [],
   "source": [
    "casedata"
   ]
  },
  {
   "cell_type": "code",
   "execution_count": null,
   "metadata": {},
   "outputs": [],
   "source": []
  },
  {
   "cell_type": "code",
   "execution_count": null,
   "metadata": {},
   "outputs": [],
   "source": [
    "wc.to_file(\"alice1.png\")"
   ]
  },
  {
   "cell_type": "code",
   "execution_count": null,
   "metadata": {},
   "outputs": [],
   "source": [
    "# /v2/top-headlines\n",
    "top_headlines_corona = newsapi.get_everything(q='corona AND covid',\n",
    "                                          language='en',\n",
    "                                        from_param='2020-03-01',\n",
    "                                      to=today = )"
   ]
  },
  {
   "cell_type": "code",
   "execution_count": null,
   "metadata": {},
   "outputs": [],
   "source": [
    "top_headlines_corona"
   ]
  },
  {
   "cell_type": "code",
   "execution_count": null,
   "metadata": {},
   "outputs": [],
   "source": []
  }
 ],
 "metadata": {
  "kernelspec": {
   "display_name": "Python 3",
   "language": "python",
   "name": "python3"
  },
  "language_info": {
   "codemirror_mode": {
    "name": "ipython",
    "version": 3
   },
   "file_extension": ".py",
   "mimetype": "text/x-python",
   "name": "python",
   "nbconvert_exporter": "python",
   "pygments_lexer": "ipython3",
   "version": "3.8.5"
  }
 },
 "nbformat": 4,
 "nbformat_minor": 4
}
